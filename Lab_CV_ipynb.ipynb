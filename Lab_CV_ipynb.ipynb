{
  "nbformat": 4,
  "nbformat_minor": 0,
  "metadata": {
    "colab": {
      "provenance": [],
      "authorship_tag": "ABX9TyOM7h2zn+JtNqcBfJ9L3QpL",
      "include_colab_link": true
    },
    "kernelspec": {
      "name": "python3",
      "display_name": "Python 3"
    },
    "language_info": {
      "name": "python"
    },
    "widgets": {
      "application/vnd.jupyter.widget-state+json": {
        "928ba762aab643a4b8742062bcbe3a1a": {
          "model_module": "@jupyter-widgets/controls",
          "model_name": "VBoxModel",
          "model_module_version": "1.5.0",
          "state": {
            "_dom_classes": [],
            "_model_module": "@jupyter-widgets/controls",
            "_model_module_version": "1.5.0",
            "_model_name": "VBoxModel",
            "_view_count": null,
            "_view_module": "@jupyter-widgets/controls",
            "_view_module_version": "1.5.0",
            "_view_name": "VBoxView",
            "box_style": "",
            "children": [
              "IPY_MODEL_8d0a5164ec2047a59e36b90615f31397"
            ],
            "layout": "IPY_MODEL_fee2981b44d448bea39725243bb455cd"
          }
        },
        "981454b24a4a4341b876406a4c729293": {
          "model_module": "@jupyter-widgets/controls",
          "model_name": "HTMLModel",
          "model_module_version": "1.5.0",
          "state": {
            "_dom_classes": [],
            "_model_module": "@jupyter-widgets/controls",
            "_model_module_version": "1.5.0",
            "_model_name": "HTMLModel",
            "_view_count": null,
            "_view_module": "@jupyter-widgets/controls",
            "_view_module_version": "1.5.0",
            "_view_name": "HTMLView",
            "description": "",
            "description_tooltip": null,
            "layout": "IPY_MODEL_e95d1560407c4b658b8c3fe14238000a",
            "placeholder": "​",
            "style": "IPY_MODEL_c7460c31f21a4bc29a79c746fdcca851",
            "value": "<center> <img\nsrc=https://www.kaggle.com/static/images/site-logo.png\nalt='Kaggle'> <br> Create an API token from <a\nhref=\"https://www.kaggle.com/settings/account\" target=\"_blank\">your Kaggle\nsettings page</a> and paste it below along with your Kaggle username. <br> </center>"
          }
        },
        "9aab1bc7df1a49198636502c9d9ca423": {
          "model_module": "@jupyter-widgets/controls",
          "model_name": "TextModel",
          "model_module_version": "1.5.0",
          "state": {
            "_dom_classes": [],
            "_model_module": "@jupyter-widgets/controls",
            "_model_module_version": "1.5.0",
            "_model_name": "TextModel",
            "_view_count": null,
            "_view_module": "@jupyter-widgets/controls",
            "_view_module_version": "1.5.0",
            "_view_name": "TextView",
            "continuous_update": true,
            "description": "Username:",
            "description_tooltip": null,
            "disabled": false,
            "layout": "IPY_MODEL_860f76d5202c4e1d96eb59ca9f58afd0",
            "placeholder": "​",
            "style": "IPY_MODEL_f94af26203314d0e857109cf0f18042d",
            "value": "peach785"
          }
        },
        "50c82a41857f46199beed2333cfbf90a": {
          "model_module": "@jupyter-widgets/controls",
          "model_name": "PasswordModel",
          "model_module_version": "1.5.0",
          "state": {
            "_dom_classes": [],
            "_model_module": "@jupyter-widgets/controls",
            "_model_module_version": "1.5.0",
            "_model_name": "PasswordModel",
            "_view_count": null,
            "_view_module": "@jupyter-widgets/controls",
            "_view_module_version": "1.5.0",
            "_view_name": "PasswordView",
            "continuous_update": true,
            "description": "Token:",
            "description_tooltip": null,
            "disabled": false,
            "layout": "IPY_MODEL_fb147425cd5c482b8169dd4a3ee663b6",
            "placeholder": "​",
            "style": "IPY_MODEL_eef273cf9c6b4229b194848591ff3f22",
            "value": ""
          }
        },
        "8f06b385f20547f99104f8428e99b82c": {
          "model_module": "@jupyter-widgets/controls",
          "model_name": "ButtonModel",
          "model_module_version": "1.5.0",
          "state": {
            "_dom_classes": [],
            "_model_module": "@jupyter-widgets/controls",
            "_model_module_version": "1.5.0",
            "_model_name": "ButtonModel",
            "_view_count": null,
            "_view_module": "@jupyter-widgets/controls",
            "_view_module_version": "1.5.0",
            "_view_name": "ButtonView",
            "button_style": "",
            "description": "Login",
            "disabled": false,
            "icon": "",
            "layout": "IPY_MODEL_2f32db850c2e4cf2bccd74d2c1ecfffe",
            "style": "IPY_MODEL_620366bf47164b199abc392a8db12dd0",
            "tooltip": ""
          }
        },
        "acddff8341d94429971860f3a39282f3": {
          "model_module": "@jupyter-widgets/controls",
          "model_name": "HTMLModel",
          "model_module_version": "1.5.0",
          "state": {
            "_dom_classes": [],
            "_model_module": "@jupyter-widgets/controls",
            "_model_module_version": "1.5.0",
            "_model_name": "HTMLModel",
            "_view_count": null,
            "_view_module": "@jupyter-widgets/controls",
            "_view_module_version": "1.5.0",
            "_view_name": "HTMLView",
            "description": "",
            "description_tooltip": null,
            "layout": "IPY_MODEL_03e968223fb7474da537f68d7b262646",
            "placeholder": "​",
            "style": "IPY_MODEL_4fc16e52ad224716acd1789ec3aec582",
            "value": "\n<b>Thank You</b></center>"
          }
        },
        "fee2981b44d448bea39725243bb455cd": {
          "model_module": "@jupyter-widgets/base",
          "model_name": "LayoutModel",
          "model_module_version": "1.2.0",
          "state": {
            "_model_module": "@jupyter-widgets/base",
            "_model_module_version": "1.2.0",
            "_model_name": "LayoutModel",
            "_view_count": null,
            "_view_module": "@jupyter-widgets/base",
            "_view_module_version": "1.2.0",
            "_view_name": "LayoutView",
            "align_content": null,
            "align_items": "center",
            "align_self": null,
            "border": null,
            "bottom": null,
            "display": "flex",
            "flex": null,
            "flex_flow": "column",
            "grid_area": null,
            "grid_auto_columns": null,
            "grid_auto_flow": null,
            "grid_auto_rows": null,
            "grid_column": null,
            "grid_gap": null,
            "grid_row": null,
            "grid_template_areas": null,
            "grid_template_columns": null,
            "grid_template_rows": null,
            "height": null,
            "justify_content": null,
            "justify_items": null,
            "left": null,
            "margin": null,
            "max_height": null,
            "max_width": null,
            "min_height": null,
            "min_width": null,
            "object_fit": null,
            "object_position": null,
            "order": null,
            "overflow": null,
            "overflow_x": null,
            "overflow_y": null,
            "padding": null,
            "right": null,
            "top": null,
            "visibility": null,
            "width": "50%"
          }
        },
        "e95d1560407c4b658b8c3fe14238000a": {
          "model_module": "@jupyter-widgets/base",
          "model_name": "LayoutModel",
          "model_module_version": "1.2.0",
          "state": {
            "_model_module": "@jupyter-widgets/base",
            "_model_module_version": "1.2.0",
            "_model_name": "LayoutModel",
            "_view_count": null,
            "_view_module": "@jupyter-widgets/base",
            "_view_module_version": "1.2.0",
            "_view_name": "LayoutView",
            "align_content": null,
            "align_items": null,
            "align_self": null,
            "border": null,
            "bottom": null,
            "display": null,
            "flex": null,
            "flex_flow": null,
            "grid_area": null,
            "grid_auto_columns": null,
            "grid_auto_flow": null,
            "grid_auto_rows": null,
            "grid_column": null,
            "grid_gap": null,
            "grid_row": null,
            "grid_template_areas": null,
            "grid_template_columns": null,
            "grid_template_rows": null,
            "height": null,
            "justify_content": null,
            "justify_items": null,
            "left": null,
            "margin": null,
            "max_height": null,
            "max_width": null,
            "min_height": null,
            "min_width": null,
            "object_fit": null,
            "object_position": null,
            "order": null,
            "overflow": null,
            "overflow_x": null,
            "overflow_y": null,
            "padding": null,
            "right": null,
            "top": null,
            "visibility": null,
            "width": null
          }
        },
        "c7460c31f21a4bc29a79c746fdcca851": {
          "model_module": "@jupyter-widgets/controls",
          "model_name": "DescriptionStyleModel",
          "model_module_version": "1.5.0",
          "state": {
            "_model_module": "@jupyter-widgets/controls",
            "_model_module_version": "1.5.0",
            "_model_name": "DescriptionStyleModel",
            "_view_count": null,
            "_view_module": "@jupyter-widgets/base",
            "_view_module_version": "1.2.0",
            "_view_name": "StyleView",
            "description_width": ""
          }
        },
        "860f76d5202c4e1d96eb59ca9f58afd0": {
          "model_module": "@jupyter-widgets/base",
          "model_name": "LayoutModel",
          "model_module_version": "1.2.0",
          "state": {
            "_model_module": "@jupyter-widgets/base",
            "_model_module_version": "1.2.0",
            "_model_name": "LayoutModel",
            "_view_count": null,
            "_view_module": "@jupyter-widgets/base",
            "_view_module_version": "1.2.0",
            "_view_name": "LayoutView",
            "align_content": null,
            "align_items": null,
            "align_self": null,
            "border": null,
            "bottom": null,
            "display": null,
            "flex": null,
            "flex_flow": null,
            "grid_area": null,
            "grid_auto_columns": null,
            "grid_auto_flow": null,
            "grid_auto_rows": null,
            "grid_column": null,
            "grid_gap": null,
            "grid_row": null,
            "grid_template_areas": null,
            "grid_template_columns": null,
            "grid_template_rows": null,
            "height": null,
            "justify_content": null,
            "justify_items": null,
            "left": null,
            "margin": null,
            "max_height": null,
            "max_width": null,
            "min_height": null,
            "min_width": null,
            "object_fit": null,
            "object_position": null,
            "order": null,
            "overflow": null,
            "overflow_x": null,
            "overflow_y": null,
            "padding": null,
            "right": null,
            "top": null,
            "visibility": null,
            "width": null
          }
        },
        "f94af26203314d0e857109cf0f18042d": {
          "model_module": "@jupyter-widgets/controls",
          "model_name": "DescriptionStyleModel",
          "model_module_version": "1.5.0",
          "state": {
            "_model_module": "@jupyter-widgets/controls",
            "_model_module_version": "1.5.0",
            "_model_name": "DescriptionStyleModel",
            "_view_count": null,
            "_view_module": "@jupyter-widgets/base",
            "_view_module_version": "1.2.0",
            "_view_name": "StyleView",
            "description_width": ""
          }
        },
        "fb147425cd5c482b8169dd4a3ee663b6": {
          "model_module": "@jupyter-widgets/base",
          "model_name": "LayoutModel",
          "model_module_version": "1.2.0",
          "state": {
            "_model_module": "@jupyter-widgets/base",
            "_model_module_version": "1.2.0",
            "_model_name": "LayoutModel",
            "_view_count": null,
            "_view_module": "@jupyter-widgets/base",
            "_view_module_version": "1.2.0",
            "_view_name": "LayoutView",
            "align_content": null,
            "align_items": null,
            "align_self": null,
            "border": null,
            "bottom": null,
            "display": null,
            "flex": null,
            "flex_flow": null,
            "grid_area": null,
            "grid_auto_columns": null,
            "grid_auto_flow": null,
            "grid_auto_rows": null,
            "grid_column": null,
            "grid_gap": null,
            "grid_row": null,
            "grid_template_areas": null,
            "grid_template_columns": null,
            "grid_template_rows": null,
            "height": null,
            "justify_content": null,
            "justify_items": null,
            "left": null,
            "margin": null,
            "max_height": null,
            "max_width": null,
            "min_height": null,
            "min_width": null,
            "object_fit": null,
            "object_position": null,
            "order": null,
            "overflow": null,
            "overflow_x": null,
            "overflow_y": null,
            "padding": null,
            "right": null,
            "top": null,
            "visibility": null,
            "width": null
          }
        },
        "eef273cf9c6b4229b194848591ff3f22": {
          "model_module": "@jupyter-widgets/controls",
          "model_name": "DescriptionStyleModel",
          "model_module_version": "1.5.0",
          "state": {
            "_model_module": "@jupyter-widgets/controls",
            "_model_module_version": "1.5.0",
            "_model_name": "DescriptionStyleModel",
            "_view_count": null,
            "_view_module": "@jupyter-widgets/base",
            "_view_module_version": "1.2.0",
            "_view_name": "StyleView",
            "description_width": ""
          }
        },
        "2f32db850c2e4cf2bccd74d2c1ecfffe": {
          "model_module": "@jupyter-widgets/base",
          "model_name": "LayoutModel",
          "model_module_version": "1.2.0",
          "state": {
            "_model_module": "@jupyter-widgets/base",
            "_model_module_version": "1.2.0",
            "_model_name": "LayoutModel",
            "_view_count": null,
            "_view_module": "@jupyter-widgets/base",
            "_view_module_version": "1.2.0",
            "_view_name": "LayoutView",
            "align_content": null,
            "align_items": null,
            "align_self": null,
            "border": null,
            "bottom": null,
            "display": null,
            "flex": null,
            "flex_flow": null,
            "grid_area": null,
            "grid_auto_columns": null,
            "grid_auto_flow": null,
            "grid_auto_rows": null,
            "grid_column": null,
            "grid_gap": null,
            "grid_row": null,
            "grid_template_areas": null,
            "grid_template_columns": null,
            "grid_template_rows": null,
            "height": null,
            "justify_content": null,
            "justify_items": null,
            "left": null,
            "margin": null,
            "max_height": null,
            "max_width": null,
            "min_height": null,
            "min_width": null,
            "object_fit": null,
            "object_position": null,
            "order": null,
            "overflow": null,
            "overflow_x": null,
            "overflow_y": null,
            "padding": null,
            "right": null,
            "top": null,
            "visibility": null,
            "width": null
          }
        },
        "620366bf47164b199abc392a8db12dd0": {
          "model_module": "@jupyter-widgets/controls",
          "model_name": "ButtonStyleModel",
          "model_module_version": "1.5.0",
          "state": {
            "_model_module": "@jupyter-widgets/controls",
            "_model_module_version": "1.5.0",
            "_model_name": "ButtonStyleModel",
            "_view_count": null,
            "_view_module": "@jupyter-widgets/base",
            "_view_module_version": "1.2.0",
            "_view_name": "StyleView",
            "button_color": null,
            "font_weight": ""
          }
        },
        "03e968223fb7474da537f68d7b262646": {
          "model_module": "@jupyter-widgets/base",
          "model_name": "LayoutModel",
          "model_module_version": "1.2.0",
          "state": {
            "_model_module": "@jupyter-widgets/base",
            "_model_module_version": "1.2.0",
            "_model_name": "LayoutModel",
            "_view_count": null,
            "_view_module": "@jupyter-widgets/base",
            "_view_module_version": "1.2.0",
            "_view_name": "LayoutView",
            "align_content": null,
            "align_items": null,
            "align_self": null,
            "border": null,
            "bottom": null,
            "display": null,
            "flex": null,
            "flex_flow": null,
            "grid_area": null,
            "grid_auto_columns": null,
            "grid_auto_flow": null,
            "grid_auto_rows": null,
            "grid_column": null,
            "grid_gap": null,
            "grid_row": null,
            "grid_template_areas": null,
            "grid_template_columns": null,
            "grid_template_rows": null,
            "height": null,
            "justify_content": null,
            "justify_items": null,
            "left": null,
            "margin": null,
            "max_height": null,
            "max_width": null,
            "min_height": null,
            "min_width": null,
            "object_fit": null,
            "object_position": null,
            "order": null,
            "overflow": null,
            "overflow_x": null,
            "overflow_y": null,
            "padding": null,
            "right": null,
            "top": null,
            "visibility": null,
            "width": null
          }
        },
        "4fc16e52ad224716acd1789ec3aec582": {
          "model_module": "@jupyter-widgets/controls",
          "model_name": "DescriptionStyleModel",
          "model_module_version": "1.5.0",
          "state": {
            "_model_module": "@jupyter-widgets/controls",
            "_model_module_version": "1.5.0",
            "_model_name": "DescriptionStyleModel",
            "_view_count": null,
            "_view_module": "@jupyter-widgets/base",
            "_view_module_version": "1.2.0",
            "_view_name": "StyleView",
            "description_width": ""
          }
        },
        "b41d7af9300445f584b69c341f6fc818": {
          "model_module": "@jupyter-widgets/controls",
          "model_name": "LabelModel",
          "model_module_version": "1.5.0",
          "state": {
            "_dom_classes": [],
            "_model_module": "@jupyter-widgets/controls",
            "_model_module_version": "1.5.0",
            "_model_name": "LabelModel",
            "_view_count": null,
            "_view_module": "@jupyter-widgets/controls",
            "_view_module_version": "1.5.0",
            "_view_name": "LabelView",
            "description": "",
            "description_tooltip": null,
            "layout": "IPY_MODEL_b71d80e44784461f9aa3d3ad39f8a9bc",
            "placeholder": "​",
            "style": "IPY_MODEL_beef650649474b34857fd865827a0a93",
            "value": "Connecting..."
          }
        },
        "b71d80e44784461f9aa3d3ad39f8a9bc": {
          "model_module": "@jupyter-widgets/base",
          "model_name": "LayoutModel",
          "model_module_version": "1.2.0",
          "state": {
            "_model_module": "@jupyter-widgets/base",
            "_model_module_version": "1.2.0",
            "_model_name": "LayoutModel",
            "_view_count": null,
            "_view_module": "@jupyter-widgets/base",
            "_view_module_version": "1.2.0",
            "_view_name": "LayoutView",
            "align_content": null,
            "align_items": null,
            "align_self": null,
            "border": null,
            "bottom": null,
            "display": null,
            "flex": null,
            "flex_flow": null,
            "grid_area": null,
            "grid_auto_columns": null,
            "grid_auto_flow": null,
            "grid_auto_rows": null,
            "grid_column": null,
            "grid_gap": null,
            "grid_row": null,
            "grid_template_areas": null,
            "grid_template_columns": null,
            "grid_template_rows": null,
            "height": null,
            "justify_content": null,
            "justify_items": null,
            "left": null,
            "margin": null,
            "max_height": null,
            "max_width": null,
            "min_height": null,
            "min_width": null,
            "object_fit": null,
            "object_position": null,
            "order": null,
            "overflow": null,
            "overflow_x": null,
            "overflow_y": null,
            "padding": null,
            "right": null,
            "top": null,
            "visibility": null,
            "width": null
          }
        },
        "beef650649474b34857fd865827a0a93": {
          "model_module": "@jupyter-widgets/controls",
          "model_name": "DescriptionStyleModel",
          "model_module_version": "1.5.0",
          "state": {
            "_model_module": "@jupyter-widgets/controls",
            "_model_module_version": "1.5.0",
            "_model_name": "DescriptionStyleModel",
            "_view_count": null,
            "_view_module": "@jupyter-widgets/base",
            "_view_module_version": "1.2.0",
            "_view_name": "StyleView",
            "description_width": ""
          }
        },
        "8d0a5164ec2047a59e36b90615f31397": {
          "model_module": "@jupyter-widgets/controls",
          "model_name": "LabelModel",
          "model_module_version": "1.5.0",
          "state": {
            "_dom_classes": [],
            "_model_module": "@jupyter-widgets/controls",
            "_model_module_version": "1.5.0",
            "_model_name": "LabelModel",
            "_view_count": null,
            "_view_module": "@jupyter-widgets/controls",
            "_view_module_version": "1.5.0",
            "_view_name": "LabelView",
            "description": "",
            "description_tooltip": null,
            "layout": "IPY_MODEL_ce5a33dff2be4cde91f54115bdeddbe7",
            "placeholder": "​",
            "style": "IPY_MODEL_e64c5b47c053480da9f268790b981f61",
            "value": "Kaggle credentials successfully validated."
          }
        },
        "ce5a33dff2be4cde91f54115bdeddbe7": {
          "model_module": "@jupyter-widgets/base",
          "model_name": "LayoutModel",
          "model_module_version": "1.2.0",
          "state": {
            "_model_module": "@jupyter-widgets/base",
            "_model_module_version": "1.2.0",
            "_model_name": "LayoutModel",
            "_view_count": null,
            "_view_module": "@jupyter-widgets/base",
            "_view_module_version": "1.2.0",
            "_view_name": "LayoutView",
            "align_content": null,
            "align_items": null,
            "align_self": null,
            "border": null,
            "bottom": null,
            "display": null,
            "flex": null,
            "flex_flow": null,
            "grid_area": null,
            "grid_auto_columns": null,
            "grid_auto_flow": null,
            "grid_auto_rows": null,
            "grid_column": null,
            "grid_gap": null,
            "grid_row": null,
            "grid_template_areas": null,
            "grid_template_columns": null,
            "grid_template_rows": null,
            "height": null,
            "justify_content": null,
            "justify_items": null,
            "left": null,
            "margin": null,
            "max_height": null,
            "max_width": null,
            "min_height": null,
            "min_width": null,
            "object_fit": null,
            "object_position": null,
            "order": null,
            "overflow": null,
            "overflow_x": null,
            "overflow_y": null,
            "padding": null,
            "right": null,
            "top": null,
            "visibility": null,
            "width": null
          }
        },
        "e64c5b47c053480da9f268790b981f61": {
          "model_module": "@jupyter-widgets/controls",
          "model_name": "DescriptionStyleModel",
          "model_module_version": "1.5.0",
          "state": {
            "_model_module": "@jupyter-widgets/controls",
            "_model_module_version": "1.5.0",
            "_model_name": "DescriptionStyleModel",
            "_view_count": null,
            "_view_module": "@jupyter-widgets/base",
            "_view_module_version": "1.2.0",
            "_view_name": "StyleView",
            "description_width": ""
          }
        }
      }
    }
  },
  "cells": [
    {
      "cell_type": "markdown",
      "metadata": {
        "id": "view-in-github",
        "colab_type": "text"
      },
      "source": [
        "<a href=\"https://colab.research.google.com/github/arinaaandreeva/ML_lab_CV/blob/main/Lab_CV_ipynb.ipynb\" target=\"_parent\"><img src=\"https://colab.research.google.com/assets/colab-badge.svg\" alt=\"Open In Colab\"/></a>"
      ]
    },
    {
      "cell_type": "code",
      "source": [
        "import cv2\n",
        "import numpy as np\n",
        "import os\n",
        "import pandas as pd\n",
        "import torch\n",
        "import torch.nn.functional as F\n",
        "from torchvision import transforms"
      ],
      "metadata": {
        "id": "oOrjB4j3J7Ip"
      },
      "execution_count": 2,
      "outputs": []
    },
    {
      "cell_type": "code",
      "source": [
        "# Вводим данные из json, который получаем на kaggle\n",
        "\n",
        "# ! pip install -q kaggle\n",
        "# from google.colab import files\n",
        "# files.upload()\n",
        "# ! mkdir ~/.kaggle\n",
        "import kagglehub\n",
        "kagglehub.login()\n",
        "! cp kaggle.json ~/.kaggle/\n",
        "! chmod 600 ~/.kaggle/kaggle.json"
      ],
      "metadata": {
        "colab": {
          "base_uri": "https://localhost:8080/",
          "height": 84,
          "referenced_widgets": [
            "928ba762aab643a4b8742062bcbe3a1a",
            "981454b24a4a4341b876406a4c729293",
            "9aab1bc7df1a49198636502c9d9ca423",
            "50c82a41857f46199beed2333cfbf90a",
            "8f06b385f20547f99104f8428e99b82c",
            "acddff8341d94429971860f3a39282f3",
            "fee2981b44d448bea39725243bb455cd",
            "e95d1560407c4b658b8c3fe14238000a",
            "c7460c31f21a4bc29a79c746fdcca851",
            "860f76d5202c4e1d96eb59ca9f58afd0",
            "f94af26203314d0e857109cf0f18042d",
            "fb147425cd5c482b8169dd4a3ee663b6",
            "eef273cf9c6b4229b194848591ff3f22",
            "2f32db850c2e4cf2bccd74d2c1ecfffe",
            "620366bf47164b199abc392a8db12dd0",
            "03e968223fb7474da537f68d7b262646",
            "4fc16e52ad224716acd1789ec3aec582",
            "b41d7af9300445f584b69c341f6fc818",
            "b71d80e44784461f9aa3d3ad39f8a9bc",
            "beef650649474b34857fd865827a0a93",
            "8d0a5164ec2047a59e36b90615f31397",
            "ce5a33dff2be4cde91f54115bdeddbe7",
            "e64c5b47c053480da9f268790b981f61"
          ]
        },
        "id": "lU6J1WpMJfOU",
        "outputId": "2528bf58-9b18-4208-ab10-4c84ca32f5db"
      },
      "execution_count": 2,
      "outputs": [
        {
          "output_type": "display_data",
          "data": {
            "text/plain": [
              "VBox(children=(HTML(value='<center> <img\\nsrc=https://www.kaggle.com/static/images/site-logo.png\\nalt=\\'Kaggle…"
            ],
            "application/vnd.jupyter.widget-view+json": {
              "version_major": 2,
              "version_minor": 0,
              "model_id": "928ba762aab643a4b8742062bcbe3a1a"
            }
          },
          "metadata": {}
        },
        {
          "output_type": "stream",
          "name": "stdout",
          "text": [
            "Kaggle credentials set.\n",
            "Kaggle credentials successfully validated.\n"
          ]
        }
      ]
    },
    {
      "cell_type": "code",
      "source": [
        "\"\"\"Загрузка файлов с Kaggle\"\"\"\n",
        "!kaggle competitions download -c cv-lab-dm-24\n",
        "!unzip cv-lab-dm-24.zip -d data"
      ],
      "metadata": {
        "colab": {
          "base_uri": "https://localhost:8080/"
        },
        "id": "G64w4xNMIZtX",
        "outputId": "3e114442-2997-484c-9e77-bf8639c8c597"
      },
      "execution_count": 3,
      "outputs": [
        {
          "output_type": "stream",
          "name": "stdout",
          "text": [
            "cv-lab-dm-24.zip: Skipping, found more recently modified local copy (use --force to force download)\n",
            "Archive:  cv-lab-dm-24.zip\n",
            "replace data/README.dataset.txt? [y]es, [n]o, [A]ll, [N]one, [r]ename: "
          ]
        }
      ]
    },
    {
      "cell_type": "code",
      "source": [
        "\"\"\"\n",
        "    Файлы COCO\n",
        "    Их позже подгружают в модель (например, чере torchvision.datasets.CocoDetection)\n",
        "    В json содржится информация о bounding box, area & category_id\n",
        "    Категория (category_id) используется как таргет\n",
        "    \"\"\"\n",
        "import json\n",
        "with open('/content/data/usdc_train.json', 'r') as f:\n",
        "    data = json.load(f)\n",
        "\n",
        "# # Извлечение категорий и изображений\n",
        "# categories = data['categories']  # Список категорий\n",
        "# images = data['images']  # Список изображений\n",
        "# annotations = data['annotations']  # Список аннотаций к изображениям\n",
        "\n",
        "# # Преобразование в DataFrame (если необходимо)\n",
        "# categories_df = pd.DataFrame(categories)\n",
        "# images_df = pd.DataFrame(images)\n",
        "# annotations_df = pd.DataFrame(annotations)\n"
      ],
      "metadata": {
        "id": "omgkJUczaKvx"
      },
      "execution_count": null,
      "outputs": []
    },
    {
      "cell_type": "markdown",
      "source": [
        "## Задание 1.\n",
        "### Данные без нормализации"
      ],
      "metadata": {
        "id": "LjGUIW-raHDl"
      }
    },
    {
      "cell_type": "code",
      "source": [
        "\"\"\"Загрузка данных без обработки\n",
        "    Нужно раскомментировать код, чтобы загрузилось\"\"\"\n",
        "def load_images(folder_path):\n",
        "    images = []\n",
        "    for filename in os.listdir(folder_path):\n",
        "        if filename.endswith('.jpg'): # у нас файлы jpg\n",
        "            filepath = os.path.join(folder_path, filename)\n",
        "            img = cv2.imread(filepath) # пиксели имеют тип uint8 (целое число от 0 до 255)\n",
        "            if img is not None:\n",
        "                images.append((filename, img))\n",
        "    return images\n",
        "\n",
        "\n",
        "# Загружаем изображения из папок\n",
        "train_path = \"/content/data/train_images/train_images\"\n",
        "test_path = '/content/data/test_images/test_images'\n",
        "#train_images = load_images(train_path)\n",
        "#test_images = load_images(test_path)"
      ],
      "metadata": {
        "id": "DyWBNu4iI6SZ"
      },
      "execution_count": 5,
      "outputs": []
    },
    {
      "cell_type": "markdown",
      "source": [
        "###Local Contrast Normalization (LCN)"
      ],
      "metadata": {
        "id": "y6RBxQaIaLGU"
      }
    },
    {
      "cell_type": "code",
      "source": [
        "def local_contrast_normalization(img, kernel_size=8):\n",
        "    \"\"\"\n",
        "    Выполняет Local Contrast Normalization (LCN).\n",
        "    kernel_size: Размер локального окна (например, 8x8).\n",
        "    \"\"\"\n",
        "    # Преобразуем изображение в float32\n",
        "    img = img.astype(np.float32) / 255.0\n",
        "\n",
        "    # Вычисляем локальное среднее значение\n",
        "    mean = cv2.blur(img, (kernel_size, kernel_size))\n",
        "\n",
        "    # Вычисляем локальное стандартное отклонение\n",
        "    squared_diff = cv2.blur((img - mean) ** 2, (kernel_size, kernel_size))\n",
        "    std = np.sqrt(squared_diff+ 1e-5) # добавляем епсилон, чтобы не было деления на 0\n",
        "\n",
        "    # Применяем нормализацию\n",
        "    normalized_img = (img - mean) / std\n",
        "\n",
        "    return normalized_img\n",
        "\n",
        "\"\"\"\n",
        "    Применяет LCN ко всем изображениях в указанной папке.\n",
        "    Сохраняет обработанные изображения в указанную выходную папку.\n",
        "    \"\"\"\n",
        "\n",
        "def apply_lcn_to_images(folder_path, output_folder):\n",
        "\n",
        "    # Проверяем, существует ли выходная папка, если нет — создаем её\n",
        "    if not os.path.exists(output_folder):\n",
        "        os.makedirs(output_folder)\n",
        "\n",
        "    # Обрабатываем все изображения в папке\n",
        "    for filename in os.listdir(folder_path):\n",
        "        if filename.endswith('.jpg'):  # Обрабатываем только файлы .jpg\n",
        "            filepath = os.path.join(folder_path, filename)\n",
        "            img = cv2.imread(filepath)  # Загружаем изображение (тип uint8)\n",
        "\n",
        "            if img is not None:\n",
        "                # Преобразуем в grayscale (если изображение цветное)\n",
        "                if len(img.shape) == 3:\n",
        "                    img = cv2.cvtColor(img, cv2.COLOR_BGR2GRAY)\n",
        "\n",
        "                # Применяем Local Contrast Normalization\n",
        "                normalized_img = local_contrast_normalization(img)\n",
        "\n",
        "                # Преобразуем изображение обратно в uint8 для сохранения\n",
        "                normalized_img_uint8 = np.clip(normalized_img * 255, 0, 255).astype(np.uint8)\n",
        "\n",
        "                # Сохраняем результат в выходную папку с оригинальным именем\n",
        "                output_path = os.path.join(output_folder, filename)\n",
        "                cv2.imwrite(output_path, normalized_img_uint8)\n",
        "\n",
        "output_folder = '/content/data/lcn_images'  # Папка для сохранения обработанных изображений\n",
        "\n",
        "apply_lcn_to_images(train_path, output_folder)"
      ],
      "metadata": {
        "id": "T1WBxvHrKbkE"
      },
      "execution_count": 6,
      "outputs": []
    },
    {
      "cell_type": "code",
      "source": [
        "\"\"\"Через torch, x- изображение\"\"\"\n",
        "# def local_contrast_normalization(x, kernel_size=7):\n",
        "#     x = x.float()\n",
        "#     # Локальное среднее\n",
        "#     mean = F.avg_pool2d(x, kernel_size, stride=1, padding=kernel_size//2)\n",
        "#     # Локальное стандартное отклонение\n",
        "#     squared_diff = F.avg_pool2d((x - mean) ** 2, kernel_size, stride=1, padding=kernel_size//2)\n",
        "#     std = torch.sqrt(squared_diff + 1e-5)  # Добавляем небольшой эпсилон для устойчивости\n",
        "\n",
        "#     return (x - mean) / std\n"
      ],
      "metadata": {
        "id": "7DGG00gSaTMf"
      },
      "execution_count": null,
      "outputs": []
    },
    {
      "cell_type": "markdown",
      "source": [
        "### Local response normalization"
      ],
      "metadata": {
        "id": "0Hgq8Ejv96BX"
      }
    },
    {
      "cell_type": "code",
      "source": [
        "def local_response_normalization(x, radius=5, alpha=1.0, beta=0.75, k=2.0):\n",
        "    \"\"\"\n",
        "    Применяет Local Response Normalization (LRN) к тензору x.\n",
        "\n",
        "    :param x: Входной тензор (например, изображение).\n",
        "    :param radius: Радиус локальной нормализации.\n",
        "    :param alpha: Коэффициент масштабирования.\n",
        "    :param beta: Экспоненциальный коэффициент.\n",
        "    :param k: Смещение для улучшения устойчивости.\n",
        "    :return: Нормализованный тензор.\n",
        "    \"\"\"\n",
        "    x = x.float()\n",
        "\n",
        "    # Размер ядра для свертки (с учетом радиуса)\n",
        "    kernel_size = 2 * radius + 1\n",
        "\n",
        "    # Создание весов для свертки\n",
        "    weights = torch.ones(x.size(1), 1, kernel_size, kernel_size).to(x.device)  # Один вес для каждого канала\n",
        "\n",
        "    # Процесс локальной нормализации (свёртка с квадратами значений)\n",
        "    square_sum = F.conv2d(x**2, weight=weights, stride=1, padding=radius, groups=x.size(1))\n",
        "\n",
        "    # Нормализация\n",
        "    norm = (alpha * square_sum + k) ** beta\n",
        "    return x / norm"
      ],
      "metadata": {
        "id": "1eUbpBCb95rf"
      },
      "execution_count": 7,
      "outputs": []
    },
    {
      "cell_type": "code",
      "source": [
        "def normalization_lrn(folder_path, output_folder, radius=5, alpha=1.0, beta=0.75, k=2.0):\n",
        "    \"\"\"\n",
        "    Обрабатывает все изображения в папке и применяет Local Response Normalization (LRN),\n",
        "    затем сохраняет результат в другую папку.\n",
        "\n",
        "    :param folder_path: Путь к папке с изображениями.\n",
        "    :param output_folder: Путь к папке для сохранения обработанных изображений.\n",
        "    :param radius: Радиус для LRN.\n",
        "    :param alpha: Коэффициент масштабирования.\n",
        "    :param beta: Экспоненциальный коэффициент.\n",
        "    :param k: Смещение для LRN.\n",
        "    \"\"\"\n",
        "    # Создаем папку для вывода, если она не существует\n",
        "    if not os.path.exists(output_folder):\n",
        "        os.makedirs(output_folder)\n",
        "\n",
        "    # Трансформатор для преобразования изображения в тензор\n",
        "    transform = transforms.ToTensor()\n",
        "\n",
        "    # Обрабатываем все изображения в папке\n",
        "    for filename in os.listdir(folder_path):\n",
        "        if filename.endswith('.jpg') or filename.endswith('.png'):  # Убедитесь, что работает с изображениями\n",
        "            filepath = os.path.join(folder_path, filename)\n",
        "\n",
        "            # Загружаем изображение\n",
        "            img = Image.open(filepath).convert('RGB')  # Преобразуем в RGB, если изображение не в этом формате\n",
        "\n",
        "            # Преобразуем изображение в тензор\n",
        "            x = transform(img).unsqueeze(0)  # Добавляем размерность для batch_size, т.е. (1, 3, H, W)\n",
        "\n",
        "            # Применяем Local Response Normalization (LRN)\n",
        "            normalized_x = local_response_normalization(x, radius, alpha, beta, k)\n",
        "\n",
        "            # Преобразуем тензор обратно в изображение и сохраняем\n",
        "            normalized_img = normalized_x.squeeze(0).clamp(0, 1).numpy().transpose(1, 2, 0)  # (H, W, C)\n",
        "            normalized_img = (normalized_img * 255).astype('uint8')  # Преобразуем в диапазон 0-255 для сохранения\n",
        "\n",
        "            # Сохраняем обработанное изображение\n",
        "            output_path = os.path.join(output_folder, filename)\n",
        "            cv2.imwrite(output_path, cv2.cvtColor(normalized_img, cv2.COLOR_RGB2BGR))  # Сохраняем в BGR\n",
        "\n",
        "    print(f\"Обработка завершена. Изображения сохранены в {output_folder}\")\n",
        "\n",
        "# output_folder = '/content/data/lrn_images'  # Путь к папке для сохранения нормализованных изображений\n",
        "\n",
        "# normalization_lrn(train_path, output_folder, radius=5, alpha=1.0, beta=0.75, k=2.0)"
      ],
      "metadata": {
        "id": "CCufbYn7AOht"
      },
      "execution_count": 8,
      "outputs": []
    },
    {
      "cell_type": "markdown",
      "source": [
        "В современных задачах обнаружения объектов на автопилоте LRN не является оптимальным выбором, так как он устарел.когда объекты плохо видны из-за изменений контраста или освещенности, Local Contrast Normalization (LCN) может быть полезным методом. Это может помочь сделать детали объектов более явными и улучшить их обнаружение в условиях темноты, тумана и т.п."
      ],
      "metadata": {
        "id": "6GVbOC3dGB6N"
      }
    },
    {
      "cell_type": "code",
      "source": [
        "# поэтому используем LCN и достаем из папки данные\n",
        "train_images = load_images('/content/data/lcn_images')"
      ],
      "metadata": {
        "id": "BKuv53iLMOEU"
      },
      "execution_count": 9,
      "outputs": []
    },
    {
      "cell_type": "code",
      "source": [],
      "metadata": {
        "id": "mxTRMzcga3A3"
      },
      "execution_count": null,
      "outputs": []
    }
  ]
}