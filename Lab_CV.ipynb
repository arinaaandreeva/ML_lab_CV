{
  "nbformat": 4,
  "nbformat_minor": 0,
  "metadata": {
    "colab": {
      "provenance": [],
      "authorship_tag": "ABX9TyOm8AbHzqpVi2ftPGAsxotF",
      "include_colab_link": true
    },
    "kernelspec": {
      "name": "python3",
      "display_name": "Python 3"
    },
    "language_info": {
      "name": "python"
    }
  },
  "cells": [
    {
      "cell_type": "markdown",
      "metadata": {
        "id": "view-in-github",
        "colab_type": "text"
      },
      "source": [
        "<a href=\"https://colab.research.google.com/github/arinaaandreeva/ML_lab_CV/blob/main/Lab_CV.ipynb\" target=\"_parent\"><img src=\"https://colab.research.google.com/assets/colab-badge.svg\" alt=\"Open In Colab\"/></a>"
      ]
    },
    {
      "cell_type": "code",
      "execution_count": 1,
      "metadata": {
        "id": "modbpaHnGToA"
      },
      "outputs": [],
      "source": [
        "# Вводим данные из json, который получаем на kaggle\n",
        "# import kagglehub\n",
        "# kagglehub.login()"
      ]
    },
    {
      "cell_type": "code",
      "source": [
        "# cv_lab_dm_24 = kagglehub.competition_download('cv-lab-dm-24')"
      ],
      "metadata": {
        "id": "tYXZKU3xITUO"
      },
      "execution_count": 2,
      "outputs": []
    },
    {
      "cell_type": "code",
      "source": [
        "import cv2\n",
        "import numpy as np\n",
        "import os\n",
        "import pandas as pd\n",
        "import torch\n",
        "import torch.nn.functional as F\n",
        "from PIL import Image\n",
        "from torchvision import transforms"
      ],
      "metadata": {
        "id": "oOrjB4j3J7Ip"
      },
      "execution_count": 17,
      "outputs": []
    },
    {
      "cell_type": "code",
      "source": [
        "# Вставляем json файл, который взяли из kaggle на своей странице\n",
        "\n",
        "! pip install -q kaggle\n",
        "from google.colab import files\n",
        "files.upload()\n",
        "! mkdir ~/.kaggle\n",
        "! cp kaggle.json ~/.kaggle/\n",
        "! chmod 600 ~/.kaggle/kaggle.json\n",
        "#! kaggle datasets list"
      ],
      "metadata": {
        "colab": {
          "base_uri": "https://localhost:8080/",
          "height": 88
        },
        "id": "lU6J1WpMJfOU",
        "outputId": "effed93b-8c8c-43db-d1b3-e08bb5b6743f"
      },
      "execution_count": 4,
      "outputs": [
        {
          "output_type": "display_data",
          "data": {
            "text/plain": [
              "<IPython.core.display.HTML object>"
            ],
            "text/html": [
              "\n",
              "     <input type=\"file\" id=\"files-0b59d3eb-9004-4d44-aa0e-7616a7a71ae1\" name=\"files[]\" multiple disabled\n",
              "        style=\"border:none\" />\n",
              "     <output id=\"result-0b59d3eb-9004-4d44-aa0e-7616a7a71ae1\">\n",
              "      Upload widget is only available when the cell has been executed in the\n",
              "      current browser session. Please rerun this cell to enable.\n",
              "      </output>\n",
              "      <script>// Copyright 2017 Google LLC\n",
              "//\n",
              "// Licensed under the Apache License, Version 2.0 (the \"License\");\n",
              "// you may not use this file except in compliance with the License.\n",
              "// You may obtain a copy of the License at\n",
              "//\n",
              "//      http://www.apache.org/licenses/LICENSE-2.0\n",
              "//\n",
              "// Unless required by applicable law or agreed to in writing, software\n",
              "// distributed under the License is distributed on an \"AS IS\" BASIS,\n",
              "// WITHOUT WARRANTIES OR CONDITIONS OF ANY KIND, either express or implied.\n",
              "// See the License for the specific language governing permissions and\n",
              "// limitations under the License.\n",
              "\n",
              "/**\n",
              " * @fileoverview Helpers for google.colab Python module.\n",
              " */\n",
              "(function(scope) {\n",
              "function span(text, styleAttributes = {}) {\n",
              "  const element = document.createElement('span');\n",
              "  element.textContent = text;\n",
              "  for (const key of Object.keys(styleAttributes)) {\n",
              "    element.style[key] = styleAttributes[key];\n",
              "  }\n",
              "  return element;\n",
              "}\n",
              "\n",
              "// Max number of bytes which will be uploaded at a time.\n",
              "const MAX_PAYLOAD_SIZE = 100 * 1024;\n",
              "\n",
              "function _uploadFiles(inputId, outputId) {\n",
              "  const steps = uploadFilesStep(inputId, outputId);\n",
              "  const outputElement = document.getElementById(outputId);\n",
              "  // Cache steps on the outputElement to make it available for the next call\n",
              "  // to uploadFilesContinue from Python.\n",
              "  outputElement.steps = steps;\n",
              "\n",
              "  return _uploadFilesContinue(outputId);\n",
              "}\n",
              "\n",
              "// This is roughly an async generator (not supported in the browser yet),\n",
              "// where there are multiple asynchronous steps and the Python side is going\n",
              "// to poll for completion of each step.\n",
              "// This uses a Promise to block the python side on completion of each step,\n",
              "// then passes the result of the previous step as the input to the next step.\n",
              "function _uploadFilesContinue(outputId) {\n",
              "  const outputElement = document.getElementById(outputId);\n",
              "  const steps = outputElement.steps;\n",
              "\n",
              "  const next = steps.next(outputElement.lastPromiseValue);\n",
              "  return Promise.resolve(next.value.promise).then((value) => {\n",
              "    // Cache the last promise value to make it available to the next\n",
              "    // step of the generator.\n",
              "    outputElement.lastPromiseValue = value;\n",
              "    return next.value.response;\n",
              "  });\n",
              "}\n",
              "\n",
              "/**\n",
              " * Generator function which is called between each async step of the upload\n",
              " * process.\n",
              " * @param {string} inputId Element ID of the input file picker element.\n",
              " * @param {string} outputId Element ID of the output display.\n",
              " * @return {!Iterable<!Object>} Iterable of next steps.\n",
              " */\n",
              "function* uploadFilesStep(inputId, outputId) {\n",
              "  const inputElement = document.getElementById(inputId);\n",
              "  inputElement.disabled = false;\n",
              "\n",
              "  const outputElement = document.getElementById(outputId);\n",
              "  outputElement.innerHTML = '';\n",
              "\n",
              "  const pickedPromise = new Promise((resolve) => {\n",
              "    inputElement.addEventListener('change', (e) => {\n",
              "      resolve(e.target.files);\n",
              "    });\n",
              "  });\n",
              "\n",
              "  const cancel = document.createElement('button');\n",
              "  inputElement.parentElement.appendChild(cancel);\n",
              "  cancel.textContent = 'Cancel upload';\n",
              "  const cancelPromise = new Promise((resolve) => {\n",
              "    cancel.onclick = () => {\n",
              "      resolve(null);\n",
              "    };\n",
              "  });\n",
              "\n",
              "  // Wait for the user to pick the files.\n",
              "  const files = yield {\n",
              "    promise: Promise.race([pickedPromise, cancelPromise]),\n",
              "    response: {\n",
              "      action: 'starting',\n",
              "    }\n",
              "  };\n",
              "\n",
              "  cancel.remove();\n",
              "\n",
              "  // Disable the input element since further picks are not allowed.\n",
              "  inputElement.disabled = true;\n",
              "\n",
              "  if (!files) {\n",
              "    return {\n",
              "      response: {\n",
              "        action: 'complete',\n",
              "      }\n",
              "    };\n",
              "  }\n",
              "\n",
              "  for (const file of files) {\n",
              "    const li = document.createElement('li');\n",
              "    li.append(span(file.name, {fontWeight: 'bold'}));\n",
              "    li.append(span(\n",
              "        `(${file.type || 'n/a'}) - ${file.size} bytes, ` +\n",
              "        `last modified: ${\n",
              "            file.lastModifiedDate ? file.lastModifiedDate.toLocaleDateString() :\n",
              "                                    'n/a'} - `));\n",
              "    const percent = span('0% done');\n",
              "    li.appendChild(percent);\n",
              "\n",
              "    outputElement.appendChild(li);\n",
              "\n",
              "    const fileDataPromise = new Promise((resolve) => {\n",
              "      const reader = new FileReader();\n",
              "      reader.onload = (e) => {\n",
              "        resolve(e.target.result);\n",
              "      };\n",
              "      reader.readAsArrayBuffer(file);\n",
              "    });\n",
              "    // Wait for the data to be ready.\n",
              "    let fileData = yield {\n",
              "      promise: fileDataPromise,\n",
              "      response: {\n",
              "        action: 'continue',\n",
              "      }\n",
              "    };\n",
              "\n",
              "    // Use a chunked sending to avoid message size limits. See b/62115660.\n",
              "    let position = 0;\n",
              "    do {\n",
              "      const length = Math.min(fileData.byteLength - position, MAX_PAYLOAD_SIZE);\n",
              "      const chunk = new Uint8Array(fileData, position, length);\n",
              "      position += length;\n",
              "\n",
              "      const base64 = btoa(String.fromCharCode.apply(null, chunk));\n",
              "      yield {\n",
              "        response: {\n",
              "          action: 'append',\n",
              "          file: file.name,\n",
              "          data: base64,\n",
              "        },\n",
              "      };\n",
              "\n",
              "      let percentDone = fileData.byteLength === 0 ?\n",
              "          100 :\n",
              "          Math.round((position / fileData.byteLength) * 100);\n",
              "      percent.textContent = `${percentDone}% done`;\n",
              "\n",
              "    } while (position < fileData.byteLength);\n",
              "  }\n",
              "\n",
              "  // All done.\n",
              "  yield {\n",
              "    response: {\n",
              "      action: 'complete',\n",
              "    }\n",
              "  };\n",
              "}\n",
              "\n",
              "scope.google = scope.google || {};\n",
              "scope.google.colab = scope.google.colab || {};\n",
              "scope.google.colab._files = {\n",
              "  _uploadFiles,\n",
              "  _uploadFilesContinue,\n",
              "};\n",
              "})(self);\n",
              "</script> "
            ]
          },
          "metadata": {}
        },
        {
          "output_type": "stream",
          "name": "stdout",
          "text": [
            "Saving kaggle.json to kaggle (1).json\n",
            "mkdir: cannot create directory ‘/root/.kaggle’: File exists\n"
          ]
        }
      ]
    },
    {
      "cell_type": "code",
      "source": [
        "\"\"\"Загрузка файлов с Kaggle\"\"\"\n",
        "!kaggle competitions download -c cv-lab-dm-24\n",
        "!unzip cv-lab-dm-24.zip -d data"
      ],
      "metadata": {
        "colab": {
          "base_uri": "https://localhost:8080/"
        },
        "id": "G64w4xNMIZtX",
        "outputId": "0a1da63f-bd11-4dc4-abbd-197ba1af570c"
      },
      "execution_count": 5,
      "outputs": [
        {
          "output_type": "stream",
          "name": "stdout",
          "text": [
            "cv-lab-dm-24.zip: Skipping, found more recently modified local copy (use --force to force download)\n",
            "Archive:  cv-lab-dm-24.zip\n",
            "replace data/README.dataset.txt? [y]es, [n]o, [A]ll, [N]one, [r]ename: "
          ]
        }
      ]
    },
    {
      "cell_type": "code",
      "source": [
        "\"\"\"Другие файлы по данным\"\"\"\n",
        "# import json\n",
        "# with open('/content/data/usdc_train.json', 'r') as f:\n",
        "#     data = json.load(f)\n",
        "\n",
        "# # Извлечение категорий и изображений\n",
        "# categories = data['categories']  # Список категорий\n",
        "# images = data['images']  # Список изображений\n",
        "\n",
        "# # Преобразование в DataFrame (если необходимо)\n",
        "# categories_df = pd.DataFrame(categories)\n",
        "# images_df = pd.DataFrame(images)"
      ],
      "metadata": {
        "colab": {
          "base_uri": "https://localhost:8080/",
          "height": 36
        },
        "id": "lqaPCmTNRmgF",
        "outputId": "fa57e008-ee21-4da0-c1ef-c79b18766654"
      },
      "execution_count": 6,
      "outputs": [
        {
          "output_type": "execute_result",
          "data": {
            "text/plain": [
              "'Другие файлы по данным'"
            ],
            "application/vnd.google.colaboratory.intrinsic+json": {
              "type": "string"
            }
          },
          "metadata": {},
          "execution_count": 6
        }
      ]
    },
    {
      "cell_type": "code",
      "source": [
        "#categories_df"
      ],
      "metadata": {
        "id": "IZzCJn5OX21h"
      },
      "execution_count": 7,
      "outputs": []
    },
    {
      "cell_type": "code",
      "source": [
        "#images_df.head(2)"
      ],
      "metadata": {
        "id": "7ADJ12QYYOAG"
      },
      "execution_count": 8,
      "outputs": []
    },
    {
      "cell_type": "markdown",
      "source": [
        "## Задание 1.\n",
        "### Данные без нормализации"
      ],
      "metadata": {
        "id": "LjGUIW-raHDl"
      }
    },
    {
      "cell_type": "code",
      "source": [
        "\"\"\"Загрузка данных без обработки\n",
        "    Нужно раскомментировать код, чтобы загрузилось\"\"\"\n",
        "def load_images(folder_path):\n",
        "    images = []\n",
        "    for filename in os.listdir(folder_path):\n",
        "        if filename.endswith('.jpg'): # у нас файлы jpg\n",
        "            filepath = os.path.join(folder_path, filename)\n",
        "            img = cv2.imread(filepath) # пиксели имеют тип uint8 (целое число от 0 до 255)\n",
        "            if img is not None:\n",
        "                images.append((filename, img))\n",
        "    return images\n",
        "\n",
        "\n",
        "# Загружаем изображения из папок\n",
        "train_path = \"/content/data/train_images/train_images\"\n",
        "test_path = '/content/data/test_images/test_images'\n",
        "#train_images = load_images(train_path)\n",
        "#test_images = load_images(test_path)"
      ],
      "metadata": {
        "id": "DyWBNu4iI6SZ"
      },
      "execution_count": 12,
      "outputs": []
    },
    {
      "cell_type": "markdown",
      "source": [
        "###Local Contrast Normalization (LCN)"
      ],
      "metadata": {
        "id": "y6RBxQaIaLGU"
      }
    },
    {
      "cell_type": "code",
      "source": [
        "def local_contrast_normalization(img, kernel_size=8):\n",
        "    \"\"\"\n",
        "    Выполняет Local Contrast Normalization (LCN).\n",
        "    kernel_size: Размер локального окна (например, 8x8).\n",
        "    \"\"\"\n",
        "    # Преобразуем изображение в float32\n",
        "    img = img.astype(np.float32) / 255.0\n",
        "\n",
        "    # Вычисляем локальное среднее значение\n",
        "    mean = cv2.blur(img, (kernel_size, kernel_size))\n",
        "\n",
        "    # Вычисляем локальное стандартное отклонение\n",
        "    squared_diff = cv2.blur((img - mean) ** 2, (kernel_size, kernel_size))\n",
        "    std = np.sqrt(squared_diff+ 1e-5) # добавляем епсилон, чтобы не было деления на 0\n",
        "\n",
        "    # Применяем нормализацию\n",
        "    normalized_img = (img - mean) / std\n",
        "\n",
        "    return normalized_img\n",
        "\n",
        "\"\"\"\n",
        "    Применяет LCN ко всем изображениях в указанной папке.\n",
        "    Сохраняет обработанные изображения в указанную выходную папку.\n",
        "    \"\"\"\n",
        "\n",
        "def apply_lcn_to_images(folder_path, output_folder):\n",
        "\n",
        "    # Проверяем, существует ли выходная папка, если нет — создаем её\n",
        "    if not os.path.exists(output_folder):\n",
        "        os.makedirs(output_folder)\n",
        "\n",
        "    # Обрабатываем все изображения в папке\n",
        "    for filename in os.listdir(folder_path):\n",
        "        if filename.endswith('.jpg'):  # Обрабатываем только файлы .jpg\n",
        "            filepath = os.path.join(folder_path, filename)\n",
        "            img = cv2.imread(filepath)  # Загружаем изображение (тип uint8)\n",
        "\n",
        "            if img is not None:\n",
        "                # Преобразуем в grayscale (если изображение цветное)\n",
        "                if len(img.shape) == 3:\n",
        "                    img = cv2.cvtColor(img, cv2.COLOR_BGR2GRAY)\n",
        "\n",
        "                # Применяем Local Contrast Normalization\n",
        "                normalized_img = local_contrast_normalization(img)\n",
        "\n",
        "                # Преобразуем изображение обратно в uint8 для сохранения\n",
        "                normalized_img_uint8 = np.clip(normalized_img * 255, 0, 255).astype(np.uint8)\n",
        "\n",
        "                # Сохраняем результат в выходную папку с оригинальным именем\n",
        "                output_path = os.path.join(output_folder, filename)\n",
        "                cv2.imwrite(output_path, normalized_img_uint8)\n",
        "\n",
        "output_folder = '/content/data/lcn_images'  # Папка для сохранения обработанных изображений\n",
        "\n",
        "apply_lcn_to_images(train_path, output_folder)"
      ],
      "metadata": {
        "colab": {
          "base_uri": "https://localhost:8080/"
        },
        "id": "T1WBxvHrKbkE",
        "outputId": "c2370504-fae6-4ebc-8270-eb6a427eb914"
      },
      "execution_count": 11,
      "outputs": [
        {
          "output_type": "stream",
          "name": "stderr",
          "text": [
            "<ipython-input-10-268c6480d7fe>:15: RuntimeWarning: invalid value encountered in sqrt\n",
            "  std = np.sqrt(squared_diff)\n",
            "<ipython-input-11-d63c3f982dfb>:27: RuntimeWarning: invalid value encountered in cast\n",
            "  normalized_img_uint8 = np.clip(normalized_img * 255, 0, 255).astype(np.uint8)\n"
          ]
        }
      ]
    },
    {
      "cell_type": "code",
      "source": [
        "\"\"\"Через torch, x- изображение\"\"\"\n",
        "# def local_contrast_normalization(x, kernel_size=7):\n",
        "#     x = x.float()\n",
        "#     # Локальное среднее\n",
        "#     mean = F.avg_pool2d(x, kernel_size, stride=1, padding=kernel_size//2)\n",
        "#     # Локальное стандартное отклонение\n",
        "#     squared_diff = F.avg_pool2d((x - mean) ** 2, kernel_size, stride=1, padding=kernel_size//2)\n",
        "#     std = torch.sqrt(squared_diff + 1e-5)  # Добавляем небольшой эпсилон для устойчивости\n",
        "\n",
        "#     return (x - mean) / std\n"
      ],
      "metadata": {
        "id": "7DGG00gSaTMf"
      },
      "execution_count": 11,
      "outputs": []
    },
    {
      "cell_type": "markdown",
      "source": [
        "### Local response normalization"
      ],
      "metadata": {
        "id": "0Hgq8Ejv96BX"
      }
    },
    {
      "cell_type": "code",
      "source": [
        "def local_response_normalization(x, radius=5, alpha=1.0, beta=0.75, k=2.0):\n",
        "    \"\"\"\n",
        "    Применяет Local Response Normalization (LRN) к тензору x.\n",
        "\n",
        "    :param x: Входной тензор (например, изображение).\n",
        "    :param radius: Радиус локальной нормализации.\n",
        "    :param alpha: Коэффициент масштабирования.\n",
        "    :param beta: Экспоненциальный коэффициент.\n",
        "    :param k: Смещение для улучшения устойчивости.\n",
        "    :return: Нормализованный тензор.\n",
        "    \"\"\"\n",
        "    x = x.float()\n",
        "\n",
        "    # Размер ядра для свертки (с учетом радиуса)\n",
        "    kernel_size = 2 * radius + 1\n",
        "\n",
        "    # Создание весов для свертки\n",
        "    weights = torch.ones(x.size(1), 1, kernel_size, kernel_size).to(x.device)  # Один вес для каждого канала\n",
        "\n",
        "    # Процесс локальной нормализации (свёртка с квадратами значений)\n",
        "    square_sum = F.conv2d(x**2, weight=weights, stride=1, padding=radius, groups=x.size(1))\n",
        "\n",
        "    # Нормализация\n",
        "    norm = (alpha * square_sum + k) ** beta\n",
        "    return x / norm"
      ],
      "metadata": {
        "id": "1eUbpBCb95rf"
      },
      "execution_count": 23,
      "outputs": []
    },
    {
      "cell_type": "code",
      "source": [
        "def normalization_lrn(folder_path, output_folder, radius=5, alpha=1.0, beta=0.75, k=2.0):\n",
        "    \"\"\"\n",
        "    Обрабатывает все изображения в папке и применяет Local Response Normalization (LRN),\n",
        "    затем сохраняет результат в другую папку.\n",
        "\n",
        "    :param folder_path: Путь к папке с изображениями.\n",
        "    :param output_folder: Путь к папке для сохранения обработанных изображений.\n",
        "    :param radius: Радиус для LRN.\n",
        "    :param alpha: Коэффициент масштабирования.\n",
        "    :param beta: Экспоненциальный коэффициент.\n",
        "    :param k: Смещение для LRN.\n",
        "    \"\"\"\n",
        "    # Создаем папку для вывода, если она не существует\n",
        "    if not os.path.exists(output_folder):\n",
        "        os.makedirs(output_folder)\n",
        "\n",
        "    # Трансформатор для преобразования изображения в тензор\n",
        "    transform = transforms.ToTensor()\n",
        "\n",
        "    # Обрабатываем все изображения в папке\n",
        "    for filename in os.listdir(folder_path):\n",
        "        if filename.endswith('.jpg') or filename.endswith('.png'):  # Убедитесь, что работает с изображениями\n",
        "            filepath = os.path.join(folder_path, filename)\n",
        "\n",
        "            # Загружаем изображение\n",
        "            img = Image.open(filepath).convert('RGB')  # Преобразуем в RGB, если изображение не в этом формате\n",
        "\n",
        "            # Преобразуем изображение в тензор\n",
        "            x = transform(img).unsqueeze(0)  # Добавляем размерность для batch_size, т.е. (1, 3, H, W)\n",
        "\n",
        "            # Применяем Local Response Normalization (LRN)\n",
        "            normalized_x = local_response_normalization(x, radius, alpha, beta, k)\n",
        "\n",
        "            # Преобразуем тензор обратно в изображение и сохраняем\n",
        "            normalized_img = normalized_x.squeeze(0).clamp(0, 1).numpy().transpose(1, 2, 0)  # (H, W, C)\n",
        "            normalized_img = (normalized_img * 255).astype('uint8')  # Преобразуем в диапазон 0-255 для сохранения\n",
        "\n",
        "            # Сохраняем обработанное изображение\n",
        "            output_path = os.path.join(output_folder, filename)\n",
        "            cv2.imwrite(output_path, cv2.cvtColor(normalized_img, cv2.COLOR_RGB2BGR))  # Сохраняем в BGR\n",
        "\n",
        "    print(f\"Обработка завершена. Изображения сохранены в {output_folder}\")\n",
        "\n",
        "# output_folder = '/content/data/lrn_images'  # Путь к папке для сохранения нормализованных изображений\n",
        "\n",
        "# normalization_lrn(train_path, output_folder, radius=5, alpha=1.0, beta=0.75, k=2.0)"
      ],
      "metadata": {
        "colab": {
          "base_uri": "https://localhost:8080/",
          "height": 321
        },
        "id": "CCufbYn7AOht",
        "outputId": "fc2810d7-a231-4b79-d5b1-2f72160b228a"
      },
      "execution_count": 25,
      "outputs": [
        {
          "output_type": "error",
          "ename": "KeyboardInterrupt",
          "evalue": "",
          "traceback": [
            "\u001b[0;31m---------------------------------------------------------------------------\u001b[0m",
            "\u001b[0;31mKeyboardInterrupt\u001b[0m                         Traceback (most recent call last)",
            "\u001b[0;32m<ipython-input-25-0c5d1f0e780d>\u001b[0m in \u001b[0;36m<cell line: 46>\u001b[0;34m()\u001b[0m\n\u001b[1;32m     44\u001b[0m \u001b[0moutput_folder\u001b[0m \u001b[0;34m=\u001b[0m \u001b[0;34m'/content/data/lrn_images'\u001b[0m  \u001b[0;31m# Путь к папке для сохранения нормализованных изображений\u001b[0m\u001b[0;34m\u001b[0m\u001b[0;34m\u001b[0m\u001b[0m\n\u001b[1;32m     45\u001b[0m \u001b[0;34m\u001b[0m\u001b[0m\n\u001b[0;32m---> 46\u001b[0;31m \u001b[0mnormalization_lrn\u001b[0m\u001b[0;34m(\u001b[0m\u001b[0mtrain_path\u001b[0m\u001b[0;34m,\u001b[0m \u001b[0moutput_folder\u001b[0m\u001b[0;34m,\u001b[0m \u001b[0mradius\u001b[0m\u001b[0;34m=\u001b[0m\u001b[0;36m5\u001b[0m\u001b[0;34m,\u001b[0m \u001b[0malpha\u001b[0m\u001b[0;34m=\u001b[0m\u001b[0;36m1.0\u001b[0m\u001b[0;34m,\u001b[0m \u001b[0mbeta\u001b[0m\u001b[0;34m=\u001b[0m\u001b[0;36m0.75\u001b[0m\u001b[0;34m,\u001b[0m \u001b[0mk\u001b[0m\u001b[0;34m=\u001b[0m\u001b[0;36m2.0\u001b[0m\u001b[0;34m)\u001b[0m\u001b[0;34m\u001b[0m\u001b[0;34m\u001b[0m\u001b[0m\n\u001b[0m",
            "\u001b[0;32m<ipython-input-25-0c5d1f0e780d>\u001b[0m in \u001b[0;36mnormalization_lrn\u001b[0;34m(folder_path, output_folder, radius, alpha, beta, k)\u001b[0m\n\u001b[1;32m     30\u001b[0m \u001b[0;34m\u001b[0m\u001b[0m\n\u001b[1;32m     31\u001b[0m             \u001b[0;31m# Применяем Local Response Normalization (LRN)\u001b[0m\u001b[0;34m\u001b[0m\u001b[0;34m\u001b[0m\u001b[0m\n\u001b[0;32m---> 32\u001b[0;31m             \u001b[0mnormalized_x\u001b[0m \u001b[0;34m=\u001b[0m \u001b[0mlocal_response_normalization\u001b[0m\u001b[0;34m(\u001b[0m\u001b[0mx\u001b[0m\u001b[0;34m,\u001b[0m \u001b[0mradius\u001b[0m\u001b[0;34m,\u001b[0m \u001b[0malpha\u001b[0m\u001b[0;34m,\u001b[0m \u001b[0mbeta\u001b[0m\u001b[0;34m,\u001b[0m \u001b[0mk\u001b[0m\u001b[0;34m)\u001b[0m\u001b[0;34m\u001b[0m\u001b[0;34m\u001b[0m\u001b[0m\n\u001b[0m\u001b[1;32m     33\u001b[0m \u001b[0;34m\u001b[0m\u001b[0m\n\u001b[1;32m     34\u001b[0m             \u001b[0;31m# Преобразуем тензор обратно в изображение и сохраняем\u001b[0m\u001b[0;34m\u001b[0m\u001b[0;34m\u001b[0m\u001b[0m\n",
            "\u001b[0;32m<ipython-input-23-afc4942a39a2>\u001b[0m in \u001b[0;36mlocal_response_normalization\u001b[0;34m(x, radius, alpha, beta, k)\u001b[0m\n\u001b[1;32m     19\u001b[0m \u001b[0;34m\u001b[0m\u001b[0m\n\u001b[1;32m     20\u001b[0m     \u001b[0;31m# Процесс локальной нормализации (свёртка с квадратами значений)\u001b[0m\u001b[0;34m\u001b[0m\u001b[0;34m\u001b[0m\u001b[0m\n\u001b[0;32m---> 21\u001b[0;31m     \u001b[0msquare_sum\u001b[0m \u001b[0;34m=\u001b[0m \u001b[0mF\u001b[0m\u001b[0;34m.\u001b[0m\u001b[0mconv2d\u001b[0m\u001b[0;34m(\u001b[0m\u001b[0mx\u001b[0m\u001b[0;34m**\u001b[0m\u001b[0;36m2\u001b[0m\u001b[0;34m,\u001b[0m \u001b[0mweight\u001b[0m\u001b[0;34m=\u001b[0m\u001b[0mweights\u001b[0m\u001b[0;34m,\u001b[0m \u001b[0mstride\u001b[0m\u001b[0;34m=\u001b[0m\u001b[0;36m1\u001b[0m\u001b[0;34m,\u001b[0m \u001b[0mpadding\u001b[0m\u001b[0;34m=\u001b[0m\u001b[0mradius\u001b[0m\u001b[0;34m,\u001b[0m \u001b[0mgroups\u001b[0m\u001b[0;34m=\u001b[0m\u001b[0mx\u001b[0m\u001b[0;34m.\u001b[0m\u001b[0msize\u001b[0m\u001b[0;34m(\u001b[0m\u001b[0;36m1\u001b[0m\u001b[0;34m)\u001b[0m\u001b[0;34m)\u001b[0m\u001b[0;34m\u001b[0m\u001b[0;34m\u001b[0m\u001b[0m\n\u001b[0m\u001b[1;32m     22\u001b[0m \u001b[0;34m\u001b[0m\u001b[0m\n\u001b[1;32m     23\u001b[0m     \u001b[0;31m# Нормализация\u001b[0m\u001b[0;34m\u001b[0m\u001b[0;34m\u001b[0m\u001b[0m\n",
            "\u001b[0;31mKeyboardInterrupt\u001b[0m: "
          ]
        }
      ]
    },
    {
      "cell_type": "markdown",
      "source": [
        "В современных задачах обнаружения объектов на автопилоте LRN не является оптимальным выбором, так как он устарел.когда объекты плохо видны из-за изменений контраста или освещенности, Local Contrast Normalization (LCN) может быть полезным методом. Это может помочь сделать детали объектов более явными и улучшить их обнаружение в условиях темноты, тумана и т.п."
      ],
      "metadata": {
        "id": "6GVbOC3dGB6N"
      }
    },
    {
      "cell_type": "code",
      "source": [
        "# поэтому используем LCN и достаем из папки данные\n",
        "train_images = load_images('/content/data/lcn_images')"
      ],
      "metadata": {
        "id": "BKuv53iLMOEU"
      },
      "execution_count": null,
      "outputs": []
    }
  ]
}